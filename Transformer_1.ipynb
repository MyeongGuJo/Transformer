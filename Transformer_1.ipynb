{
  "nbformat": 4,
  "nbformat_minor": 0,
  "metadata": {
    "colab": {
      "provenance": [],
      "gpuType": "T4",
      "mount_file_id": "1DAhSsj-1FqrnVoVJA9d8T3a4_YcL-cqc",
      "authorship_tag": "ABX9TyOn/yTu5lMY1roNWOJPS3Ng",
      "include_colab_link": true
    },
    "kernelspec": {
      "name": "python3",
      "display_name": "Python 3"
    },
    "language_info": {
      "name": "python"
    },
    "accelerator": "GPU",
    "widgets": {
      "application/vnd.jupyter.widget-state+json": {
        "b116a19e09944669b0c1e0a69bd71669": {
          "model_module": "@jupyter-widgets/controls",
          "model_name": "HBoxModel",
          "model_module_version": "1.5.0",
          "state": {
            "_dom_classes": [],
            "_model_module": "@jupyter-widgets/controls",
            "_model_module_version": "1.5.0",
            "_model_name": "HBoxModel",
            "_view_count": null,
            "_view_module": "@jupyter-widgets/controls",
            "_view_module_version": "1.5.0",
            "_view_name": "HBoxView",
            "box_style": "",
            "children": [
              "IPY_MODEL_abc1a4287e384e22aa794958ab47bd7c",
              "IPY_MODEL_23973c15a306422faba7a4465230a5eb",
              "IPY_MODEL_f282b0421f814b8b8a2c56b1e882bf46"
            ],
            "layout": "IPY_MODEL_f971a0e83d734bbbbc76765cba417fe9"
          }
        },
        "abc1a4287e384e22aa794958ab47bd7c": {
          "model_module": "@jupyter-widgets/controls",
          "model_name": "HTMLModel",
          "model_module_version": "1.5.0",
          "state": {
            "_dom_classes": [],
            "_model_module": "@jupyter-widgets/controls",
            "_model_module_version": "1.5.0",
            "_model_name": "HTMLModel",
            "_view_count": null,
            "_view_module": "@jupyter-widgets/controls",
            "_view_module_version": "1.5.0",
            "_view_name": "HTMLView",
            "description": "",
            "description_tooltip": null,
            "layout": "IPY_MODEL_7c6146cd60984158a7ad1de7c6d5fb13",
            "placeholder": "​",
            "style": "IPY_MODEL_b7eb4e7f336c47af91ec5b8ad442af78",
            "value": "tokenizer_config.json: 100%"
          }
        },
        "23973c15a306422faba7a4465230a5eb": {
          "model_module": "@jupyter-widgets/controls",
          "model_name": "FloatProgressModel",
          "model_module_version": "1.5.0",
          "state": {
            "_dom_classes": [],
            "_model_module": "@jupyter-widgets/controls",
            "_model_module_version": "1.5.0",
            "_model_name": "FloatProgressModel",
            "_view_count": null,
            "_view_module": "@jupyter-widgets/controls",
            "_view_module_version": "1.5.0",
            "_view_name": "ProgressView",
            "bar_style": "success",
            "description": "",
            "description_tooltip": null,
            "layout": "IPY_MODEL_f3ef9e24fb3b4453ade6accee639a42e",
            "max": 28,
            "min": 0,
            "orientation": "horizontal",
            "style": "IPY_MODEL_33de4d7dbcfa465792999b54b410d576",
            "value": 28
          }
        },
        "f282b0421f814b8b8a2c56b1e882bf46": {
          "model_module": "@jupyter-widgets/controls",
          "model_name": "HTMLModel",
          "model_module_version": "1.5.0",
          "state": {
            "_dom_classes": [],
            "_model_module": "@jupyter-widgets/controls",
            "_model_module_version": "1.5.0",
            "_model_name": "HTMLModel",
            "_view_count": null,
            "_view_module": "@jupyter-widgets/controls",
            "_view_module_version": "1.5.0",
            "_view_name": "HTMLView",
            "description": "",
            "description_tooltip": null,
            "layout": "IPY_MODEL_6abf030c580b4f67b13a17c617945c59",
            "placeholder": "​",
            "style": "IPY_MODEL_7580e49077324bafb66246e13b2787f1",
            "value": " 28.0/28.0 [00:00&lt;00:00, 1.71kB/s]"
          }
        },
        "f971a0e83d734bbbbc76765cba417fe9": {
          "model_module": "@jupyter-widgets/base",
          "model_name": "LayoutModel",
          "model_module_version": "1.2.0",
          "state": {
            "_model_module": "@jupyter-widgets/base",
            "_model_module_version": "1.2.0",
            "_model_name": "LayoutModel",
            "_view_count": null,
            "_view_module": "@jupyter-widgets/base",
            "_view_module_version": "1.2.0",
            "_view_name": "LayoutView",
            "align_content": null,
            "align_items": null,
            "align_self": null,
            "border": null,
            "bottom": null,
            "display": null,
            "flex": null,
            "flex_flow": null,
            "grid_area": null,
            "grid_auto_columns": null,
            "grid_auto_flow": null,
            "grid_auto_rows": null,
            "grid_column": null,
            "grid_gap": null,
            "grid_row": null,
            "grid_template_areas": null,
            "grid_template_columns": null,
            "grid_template_rows": null,
            "height": null,
            "justify_content": null,
            "justify_items": null,
            "left": null,
            "margin": null,
            "max_height": null,
            "max_width": null,
            "min_height": null,
            "min_width": null,
            "object_fit": null,
            "object_position": null,
            "order": null,
            "overflow": null,
            "overflow_x": null,
            "overflow_y": null,
            "padding": null,
            "right": null,
            "top": null,
            "visibility": null,
            "width": null
          }
        },
        "7c6146cd60984158a7ad1de7c6d5fb13": {
          "model_module": "@jupyter-widgets/base",
          "model_name": "LayoutModel",
          "model_module_version": "1.2.0",
          "state": {
            "_model_module": "@jupyter-widgets/base",
            "_model_module_version": "1.2.0",
            "_model_name": "LayoutModel",
            "_view_count": null,
            "_view_module": "@jupyter-widgets/base",
            "_view_module_version": "1.2.0",
            "_view_name": "LayoutView",
            "align_content": null,
            "align_items": null,
            "align_self": null,
            "border": null,
            "bottom": null,
            "display": null,
            "flex": null,
            "flex_flow": null,
            "grid_area": null,
            "grid_auto_columns": null,
            "grid_auto_flow": null,
            "grid_auto_rows": null,
            "grid_column": null,
            "grid_gap": null,
            "grid_row": null,
            "grid_template_areas": null,
            "grid_template_columns": null,
            "grid_template_rows": null,
            "height": null,
            "justify_content": null,
            "justify_items": null,
            "left": null,
            "margin": null,
            "max_height": null,
            "max_width": null,
            "min_height": null,
            "min_width": null,
            "object_fit": null,
            "object_position": null,
            "order": null,
            "overflow": null,
            "overflow_x": null,
            "overflow_y": null,
            "padding": null,
            "right": null,
            "top": null,
            "visibility": null,
            "width": null
          }
        },
        "b7eb4e7f336c47af91ec5b8ad442af78": {
          "model_module": "@jupyter-widgets/controls",
          "model_name": "DescriptionStyleModel",
          "model_module_version": "1.5.0",
          "state": {
            "_model_module": "@jupyter-widgets/controls",
            "_model_module_version": "1.5.0",
            "_model_name": "DescriptionStyleModel",
            "_view_count": null,
            "_view_module": "@jupyter-widgets/base",
            "_view_module_version": "1.2.0",
            "_view_name": "StyleView",
            "description_width": ""
          }
        },
        "f3ef9e24fb3b4453ade6accee639a42e": {
          "model_module": "@jupyter-widgets/base",
          "model_name": "LayoutModel",
          "model_module_version": "1.2.0",
          "state": {
            "_model_module": "@jupyter-widgets/base",
            "_model_module_version": "1.2.0",
            "_model_name": "LayoutModel",
            "_view_count": null,
            "_view_module": "@jupyter-widgets/base",
            "_view_module_version": "1.2.0",
            "_view_name": "LayoutView",
            "align_content": null,
            "align_items": null,
            "align_self": null,
            "border": null,
            "bottom": null,
            "display": null,
            "flex": null,
            "flex_flow": null,
            "grid_area": null,
            "grid_auto_columns": null,
            "grid_auto_flow": null,
            "grid_auto_rows": null,
            "grid_column": null,
            "grid_gap": null,
            "grid_row": null,
            "grid_template_areas": null,
            "grid_template_columns": null,
            "grid_template_rows": null,
            "height": null,
            "justify_content": null,
            "justify_items": null,
            "left": null,
            "margin": null,
            "max_height": null,
            "max_width": null,
            "min_height": null,
            "min_width": null,
            "object_fit": null,
            "object_position": null,
            "order": null,
            "overflow": null,
            "overflow_x": null,
            "overflow_y": null,
            "padding": null,
            "right": null,
            "top": null,
            "visibility": null,
            "width": null
          }
        },
        "33de4d7dbcfa465792999b54b410d576": {
          "model_module": "@jupyter-widgets/controls",
          "model_name": "ProgressStyleModel",
          "model_module_version": "1.5.0",
          "state": {
            "_model_module": "@jupyter-widgets/controls",
            "_model_module_version": "1.5.0",
            "_model_name": "ProgressStyleModel",
            "_view_count": null,
            "_view_module": "@jupyter-widgets/base",
            "_view_module_version": "1.2.0",
            "_view_name": "StyleView",
            "bar_color": null,
            "description_width": ""
          }
        },
        "6abf030c580b4f67b13a17c617945c59": {
          "model_module": "@jupyter-widgets/base",
          "model_name": "LayoutModel",
          "model_module_version": "1.2.0",
          "state": {
            "_model_module": "@jupyter-widgets/base",
            "_model_module_version": "1.2.0",
            "_model_name": "LayoutModel",
            "_view_count": null,
            "_view_module": "@jupyter-widgets/base",
            "_view_module_version": "1.2.0",
            "_view_name": "LayoutView",
            "align_content": null,
            "align_items": null,
            "align_self": null,
            "border": null,
            "bottom": null,
            "display": null,
            "flex": null,
            "flex_flow": null,
            "grid_area": null,
            "grid_auto_columns": null,
            "grid_auto_flow": null,
            "grid_auto_rows": null,
            "grid_column": null,
            "grid_gap": null,
            "grid_row": null,
            "grid_template_areas": null,
            "grid_template_columns": null,
            "grid_template_rows": null,
            "height": null,
            "justify_content": null,
            "justify_items": null,
            "left": null,
            "margin": null,
            "max_height": null,
            "max_width": null,
            "min_height": null,
            "min_width": null,
            "object_fit": null,
            "object_position": null,
            "order": null,
            "overflow": null,
            "overflow_x": null,
            "overflow_y": null,
            "padding": null,
            "right": null,
            "top": null,
            "visibility": null,
            "width": null
          }
        },
        "7580e49077324bafb66246e13b2787f1": {
          "model_module": "@jupyter-widgets/controls",
          "model_name": "DescriptionStyleModel",
          "model_module_version": "1.5.0",
          "state": {
            "_model_module": "@jupyter-widgets/controls",
            "_model_module_version": "1.5.0",
            "_model_name": "DescriptionStyleModel",
            "_view_count": null,
            "_view_module": "@jupyter-widgets/base",
            "_view_module_version": "1.2.0",
            "_view_name": "StyleView",
            "description_width": ""
          }
        },
        "609b7b51237447c9be91418f0416d759": {
          "model_module": "@jupyter-widgets/controls",
          "model_name": "HBoxModel",
          "model_module_version": "1.5.0",
          "state": {
            "_dom_classes": [],
            "_model_module": "@jupyter-widgets/controls",
            "_model_module_version": "1.5.0",
            "_model_name": "HBoxModel",
            "_view_count": null,
            "_view_module": "@jupyter-widgets/controls",
            "_view_module_version": "1.5.0",
            "_view_name": "HBoxView",
            "box_style": "",
            "children": [
              "IPY_MODEL_a132954c93b747188f8d30f7819a7a9f",
              "IPY_MODEL_672cea6f532f4a02bf36b09bfe1f668b",
              "IPY_MODEL_53f2fa5bbeb040d1abc0b78fe35ab775"
            ],
            "layout": "IPY_MODEL_01ab50a778cf400d934ce47918e58b75"
          }
        },
        "a132954c93b747188f8d30f7819a7a9f": {
          "model_module": "@jupyter-widgets/controls",
          "model_name": "HTMLModel",
          "model_module_version": "1.5.0",
          "state": {
            "_dom_classes": [],
            "_model_module": "@jupyter-widgets/controls",
            "_model_module_version": "1.5.0",
            "_model_name": "HTMLModel",
            "_view_count": null,
            "_view_module": "@jupyter-widgets/controls",
            "_view_module_version": "1.5.0",
            "_view_name": "HTMLView",
            "description": "",
            "description_tooltip": null,
            "layout": "IPY_MODEL_bc9247e0702248b9a2a8d33e8a98947c",
            "placeholder": "​",
            "style": "IPY_MODEL_bcf5d8ac86b64b25a5b84861ad4267dd",
            "value": "config.json: 100%"
          }
        },
        "672cea6f532f4a02bf36b09bfe1f668b": {
          "model_module": "@jupyter-widgets/controls",
          "model_name": "FloatProgressModel",
          "model_module_version": "1.5.0",
          "state": {
            "_dom_classes": [],
            "_model_module": "@jupyter-widgets/controls",
            "_model_module_version": "1.5.0",
            "_model_name": "FloatProgressModel",
            "_view_count": null,
            "_view_module": "@jupyter-widgets/controls",
            "_view_module_version": "1.5.0",
            "_view_name": "ProgressView",
            "bar_style": "success",
            "description": "",
            "description_tooltip": null,
            "layout": "IPY_MODEL_3546c3f44004449f9b4c02f0f5beef91",
            "max": 570,
            "min": 0,
            "orientation": "horizontal",
            "style": "IPY_MODEL_b1788c74e22f4acda8d24d8110b01753",
            "value": 570
          }
        },
        "53f2fa5bbeb040d1abc0b78fe35ab775": {
          "model_module": "@jupyter-widgets/controls",
          "model_name": "HTMLModel",
          "model_module_version": "1.5.0",
          "state": {
            "_dom_classes": [],
            "_model_module": "@jupyter-widgets/controls",
            "_model_module_version": "1.5.0",
            "_model_name": "HTMLModel",
            "_view_count": null,
            "_view_module": "@jupyter-widgets/controls",
            "_view_module_version": "1.5.0",
            "_view_name": "HTMLView",
            "description": "",
            "description_tooltip": null,
            "layout": "IPY_MODEL_95707d8419724db0aa05bd594a72895d",
            "placeholder": "​",
            "style": "IPY_MODEL_d97bf4d560124b7899cbbad61be88eb0",
            "value": " 570/570 [00:00&lt;00:00, 45.7kB/s]"
          }
        },
        "01ab50a778cf400d934ce47918e58b75": {
          "model_module": "@jupyter-widgets/base",
          "model_name": "LayoutModel",
          "model_module_version": "1.2.0",
          "state": {
            "_model_module": "@jupyter-widgets/base",
            "_model_module_version": "1.2.0",
            "_model_name": "LayoutModel",
            "_view_count": null,
            "_view_module": "@jupyter-widgets/base",
            "_view_module_version": "1.2.0",
            "_view_name": "LayoutView",
            "align_content": null,
            "align_items": null,
            "align_self": null,
            "border": null,
            "bottom": null,
            "display": null,
            "flex": null,
            "flex_flow": null,
            "grid_area": null,
            "grid_auto_columns": null,
            "grid_auto_flow": null,
            "grid_auto_rows": null,
            "grid_column": null,
            "grid_gap": null,
            "grid_row": null,
            "grid_template_areas": null,
            "grid_template_columns": null,
            "grid_template_rows": null,
            "height": null,
            "justify_content": null,
            "justify_items": null,
            "left": null,
            "margin": null,
            "max_height": null,
            "max_width": null,
            "min_height": null,
            "min_width": null,
            "object_fit": null,
            "object_position": null,
            "order": null,
            "overflow": null,
            "overflow_x": null,
            "overflow_y": null,
            "padding": null,
            "right": null,
            "top": null,
            "visibility": null,
            "width": null
          }
        },
        "bc9247e0702248b9a2a8d33e8a98947c": {
          "model_module": "@jupyter-widgets/base",
          "model_name": "LayoutModel",
          "model_module_version": "1.2.0",
          "state": {
            "_model_module": "@jupyter-widgets/base",
            "_model_module_version": "1.2.0",
            "_model_name": "LayoutModel",
            "_view_count": null,
            "_view_module": "@jupyter-widgets/base",
            "_view_module_version": "1.2.0",
            "_view_name": "LayoutView",
            "align_content": null,
            "align_items": null,
            "align_self": null,
            "border": null,
            "bottom": null,
            "display": null,
            "flex": null,
            "flex_flow": null,
            "grid_area": null,
            "grid_auto_columns": null,
            "grid_auto_flow": null,
            "grid_auto_rows": null,
            "grid_column": null,
            "grid_gap": null,
            "grid_row": null,
            "grid_template_areas": null,
            "grid_template_columns": null,
            "grid_template_rows": null,
            "height": null,
            "justify_content": null,
            "justify_items": null,
            "left": null,
            "margin": null,
            "max_height": null,
            "max_width": null,
            "min_height": null,
            "min_width": null,
            "object_fit": null,
            "object_position": null,
            "order": null,
            "overflow": null,
            "overflow_x": null,
            "overflow_y": null,
            "padding": null,
            "right": null,
            "top": null,
            "visibility": null,
            "width": null
          }
        },
        "bcf5d8ac86b64b25a5b84861ad4267dd": {
          "model_module": "@jupyter-widgets/controls",
          "model_name": "DescriptionStyleModel",
          "model_module_version": "1.5.0",
          "state": {
            "_model_module": "@jupyter-widgets/controls",
            "_model_module_version": "1.5.0",
            "_model_name": "DescriptionStyleModel",
            "_view_count": null,
            "_view_module": "@jupyter-widgets/base",
            "_view_module_version": "1.2.0",
            "_view_name": "StyleView",
            "description_width": ""
          }
        },
        "3546c3f44004449f9b4c02f0f5beef91": {
          "model_module": "@jupyter-widgets/base",
          "model_name": "LayoutModel",
          "model_module_version": "1.2.0",
          "state": {
            "_model_module": "@jupyter-widgets/base",
            "_model_module_version": "1.2.0",
            "_model_name": "LayoutModel",
            "_view_count": null,
            "_view_module": "@jupyter-widgets/base",
            "_view_module_version": "1.2.0",
            "_view_name": "LayoutView",
            "align_content": null,
            "align_items": null,
            "align_self": null,
            "border": null,
            "bottom": null,
            "display": null,
            "flex": null,
            "flex_flow": null,
            "grid_area": null,
            "grid_auto_columns": null,
            "grid_auto_flow": null,
            "grid_auto_rows": null,
            "grid_column": null,
            "grid_gap": null,
            "grid_row": null,
            "grid_template_areas": null,
            "grid_template_columns": null,
            "grid_template_rows": null,
            "height": null,
            "justify_content": null,
            "justify_items": null,
            "left": null,
            "margin": null,
            "max_height": null,
            "max_width": null,
            "min_height": null,
            "min_width": null,
            "object_fit": null,
            "object_position": null,
            "order": null,
            "overflow": null,
            "overflow_x": null,
            "overflow_y": null,
            "padding": null,
            "right": null,
            "top": null,
            "visibility": null,
            "width": null
          }
        },
        "b1788c74e22f4acda8d24d8110b01753": {
          "model_module": "@jupyter-widgets/controls",
          "model_name": "ProgressStyleModel",
          "model_module_version": "1.5.0",
          "state": {
            "_model_module": "@jupyter-widgets/controls",
            "_model_module_version": "1.5.0",
            "_model_name": "ProgressStyleModel",
            "_view_count": null,
            "_view_module": "@jupyter-widgets/base",
            "_view_module_version": "1.2.0",
            "_view_name": "StyleView",
            "bar_color": null,
            "description_width": ""
          }
        },
        "95707d8419724db0aa05bd594a72895d": {
          "model_module": "@jupyter-widgets/base",
          "model_name": "LayoutModel",
          "model_module_version": "1.2.0",
          "state": {
            "_model_module": "@jupyter-widgets/base",
            "_model_module_version": "1.2.0",
            "_model_name": "LayoutModel",
            "_view_count": null,
            "_view_module": "@jupyter-widgets/base",
            "_view_module_version": "1.2.0",
            "_view_name": "LayoutView",
            "align_content": null,
            "align_items": null,
            "align_self": null,
            "border": null,
            "bottom": null,
            "display": null,
            "flex": null,
            "flex_flow": null,
            "grid_area": null,
            "grid_auto_columns": null,
            "grid_auto_flow": null,
            "grid_auto_rows": null,
            "grid_column": null,
            "grid_gap": null,
            "grid_row": null,
            "grid_template_areas": null,
            "grid_template_columns": null,
            "grid_template_rows": null,
            "height": null,
            "justify_content": null,
            "justify_items": null,
            "left": null,
            "margin": null,
            "max_height": null,
            "max_width": null,
            "min_height": null,
            "min_width": null,
            "object_fit": null,
            "object_position": null,
            "order": null,
            "overflow": null,
            "overflow_x": null,
            "overflow_y": null,
            "padding": null,
            "right": null,
            "top": null,
            "visibility": null,
            "width": null
          }
        },
        "d97bf4d560124b7899cbbad61be88eb0": {
          "model_module": "@jupyter-widgets/controls",
          "model_name": "DescriptionStyleModel",
          "model_module_version": "1.5.0",
          "state": {
            "_model_module": "@jupyter-widgets/controls",
            "_model_module_version": "1.5.0",
            "_model_name": "DescriptionStyleModel",
            "_view_count": null,
            "_view_module": "@jupyter-widgets/base",
            "_view_module_version": "1.2.0",
            "_view_name": "StyleView",
            "description_width": ""
          }
        },
        "c5332b8620a643949236788398845411": {
          "model_module": "@jupyter-widgets/controls",
          "model_name": "HBoxModel",
          "model_module_version": "1.5.0",
          "state": {
            "_dom_classes": [],
            "_model_module": "@jupyter-widgets/controls",
            "_model_module_version": "1.5.0",
            "_model_name": "HBoxModel",
            "_view_count": null,
            "_view_module": "@jupyter-widgets/controls",
            "_view_module_version": "1.5.0",
            "_view_name": "HBoxView",
            "box_style": "",
            "children": [
              "IPY_MODEL_5c1028b5348a4833bc6678fb4498b2ba",
              "IPY_MODEL_0dc8790be5f440bc979bd5042f8fc12e",
              "IPY_MODEL_876f090b71744e749a39df804259d20f"
            ],
            "layout": "IPY_MODEL_e0d4b08ee3b644c89b5adab1b40fc62b"
          }
        },
        "5c1028b5348a4833bc6678fb4498b2ba": {
          "model_module": "@jupyter-widgets/controls",
          "model_name": "HTMLModel",
          "model_module_version": "1.5.0",
          "state": {
            "_dom_classes": [],
            "_model_module": "@jupyter-widgets/controls",
            "_model_module_version": "1.5.0",
            "_model_name": "HTMLModel",
            "_view_count": null,
            "_view_module": "@jupyter-widgets/controls",
            "_view_module_version": "1.5.0",
            "_view_name": "HTMLView",
            "description": "",
            "description_tooltip": null,
            "layout": "IPY_MODEL_3b6d22e0773c4602b0aff551ca91a84b",
            "placeholder": "​",
            "style": "IPY_MODEL_6a8d85e5c4da4d4785ab562a1e43b524",
            "value": "vocab.txt: 100%"
          }
        },
        "0dc8790be5f440bc979bd5042f8fc12e": {
          "model_module": "@jupyter-widgets/controls",
          "model_name": "FloatProgressModel",
          "model_module_version": "1.5.0",
          "state": {
            "_dom_classes": [],
            "_model_module": "@jupyter-widgets/controls",
            "_model_module_version": "1.5.0",
            "_model_name": "FloatProgressModel",
            "_view_count": null,
            "_view_module": "@jupyter-widgets/controls",
            "_view_module_version": "1.5.0",
            "_view_name": "ProgressView",
            "bar_style": "success",
            "description": "",
            "description_tooltip": null,
            "layout": "IPY_MODEL_4ab6c24df49f4ce6a6ef3f1bdef9de60",
            "max": 231508,
            "min": 0,
            "orientation": "horizontal",
            "style": "IPY_MODEL_c171fe0d6517433689ea194faad921c6",
            "value": 231508
          }
        },
        "876f090b71744e749a39df804259d20f": {
          "model_module": "@jupyter-widgets/controls",
          "model_name": "HTMLModel",
          "model_module_version": "1.5.0",
          "state": {
            "_dom_classes": [],
            "_model_module": "@jupyter-widgets/controls",
            "_model_module_version": "1.5.0",
            "_model_name": "HTMLModel",
            "_view_count": null,
            "_view_module": "@jupyter-widgets/controls",
            "_view_module_version": "1.5.0",
            "_view_name": "HTMLView",
            "description": "",
            "description_tooltip": null,
            "layout": "IPY_MODEL_83de09efdb6a4eff8aa78eb79e44a792",
            "placeholder": "​",
            "style": "IPY_MODEL_40ea8aef5435462fa34c4a0b677a8f0e",
            "value": " 232k/232k [00:00&lt;00:00, 1.79MB/s]"
          }
        },
        "e0d4b08ee3b644c89b5adab1b40fc62b": {
          "model_module": "@jupyter-widgets/base",
          "model_name": "LayoutModel",
          "model_module_version": "1.2.0",
          "state": {
            "_model_module": "@jupyter-widgets/base",
            "_model_module_version": "1.2.0",
            "_model_name": "LayoutModel",
            "_view_count": null,
            "_view_module": "@jupyter-widgets/base",
            "_view_module_version": "1.2.0",
            "_view_name": "LayoutView",
            "align_content": null,
            "align_items": null,
            "align_self": null,
            "border": null,
            "bottom": null,
            "display": null,
            "flex": null,
            "flex_flow": null,
            "grid_area": null,
            "grid_auto_columns": null,
            "grid_auto_flow": null,
            "grid_auto_rows": null,
            "grid_column": null,
            "grid_gap": null,
            "grid_row": null,
            "grid_template_areas": null,
            "grid_template_columns": null,
            "grid_template_rows": null,
            "height": null,
            "justify_content": null,
            "justify_items": null,
            "left": null,
            "margin": null,
            "max_height": null,
            "max_width": null,
            "min_height": null,
            "min_width": null,
            "object_fit": null,
            "object_position": null,
            "order": null,
            "overflow": null,
            "overflow_x": null,
            "overflow_y": null,
            "padding": null,
            "right": null,
            "top": null,
            "visibility": null,
            "width": null
          }
        },
        "3b6d22e0773c4602b0aff551ca91a84b": {
          "model_module": "@jupyter-widgets/base",
          "model_name": "LayoutModel",
          "model_module_version": "1.2.0",
          "state": {
            "_model_module": "@jupyter-widgets/base",
            "_model_module_version": "1.2.0",
            "_model_name": "LayoutModel",
            "_view_count": null,
            "_view_module": "@jupyter-widgets/base",
            "_view_module_version": "1.2.0",
            "_view_name": "LayoutView",
            "align_content": null,
            "align_items": null,
            "align_self": null,
            "border": null,
            "bottom": null,
            "display": null,
            "flex": null,
            "flex_flow": null,
            "grid_area": null,
            "grid_auto_columns": null,
            "grid_auto_flow": null,
            "grid_auto_rows": null,
            "grid_column": null,
            "grid_gap": null,
            "grid_row": null,
            "grid_template_areas": null,
            "grid_template_columns": null,
            "grid_template_rows": null,
            "height": null,
            "justify_content": null,
            "justify_items": null,
            "left": null,
            "margin": null,
            "max_height": null,
            "max_width": null,
            "min_height": null,
            "min_width": null,
            "object_fit": null,
            "object_position": null,
            "order": null,
            "overflow": null,
            "overflow_x": null,
            "overflow_y": null,
            "padding": null,
            "right": null,
            "top": null,
            "visibility": null,
            "width": null
          }
        },
        "6a8d85e5c4da4d4785ab562a1e43b524": {
          "model_module": "@jupyter-widgets/controls",
          "model_name": "DescriptionStyleModel",
          "model_module_version": "1.5.0",
          "state": {
            "_model_module": "@jupyter-widgets/controls",
            "_model_module_version": "1.5.0",
            "_model_name": "DescriptionStyleModel",
            "_view_count": null,
            "_view_module": "@jupyter-widgets/base",
            "_view_module_version": "1.2.0",
            "_view_name": "StyleView",
            "description_width": ""
          }
        },
        "4ab6c24df49f4ce6a6ef3f1bdef9de60": {
          "model_module": "@jupyter-widgets/base",
          "model_name": "LayoutModel",
          "model_module_version": "1.2.0",
          "state": {
            "_model_module": "@jupyter-widgets/base",
            "_model_module_version": "1.2.0",
            "_model_name": "LayoutModel",
            "_view_count": null,
            "_view_module": "@jupyter-widgets/base",
            "_view_module_version": "1.2.0",
            "_view_name": "LayoutView",
            "align_content": null,
            "align_items": null,
            "align_self": null,
            "border": null,
            "bottom": null,
            "display": null,
            "flex": null,
            "flex_flow": null,
            "grid_area": null,
            "grid_auto_columns": null,
            "grid_auto_flow": null,
            "grid_auto_rows": null,
            "grid_column": null,
            "grid_gap": null,
            "grid_row": null,
            "grid_template_areas": null,
            "grid_template_columns": null,
            "grid_template_rows": null,
            "height": null,
            "justify_content": null,
            "justify_items": null,
            "left": null,
            "margin": null,
            "max_height": null,
            "max_width": null,
            "min_height": null,
            "min_width": null,
            "object_fit": null,
            "object_position": null,
            "order": null,
            "overflow": null,
            "overflow_x": null,
            "overflow_y": null,
            "padding": null,
            "right": null,
            "top": null,
            "visibility": null,
            "width": null
          }
        },
        "c171fe0d6517433689ea194faad921c6": {
          "model_module": "@jupyter-widgets/controls",
          "model_name": "ProgressStyleModel",
          "model_module_version": "1.5.0",
          "state": {
            "_model_module": "@jupyter-widgets/controls",
            "_model_module_version": "1.5.0",
            "_model_name": "ProgressStyleModel",
            "_view_count": null,
            "_view_module": "@jupyter-widgets/base",
            "_view_module_version": "1.2.0",
            "_view_name": "StyleView",
            "bar_color": null,
            "description_width": ""
          }
        },
        "83de09efdb6a4eff8aa78eb79e44a792": {
          "model_module": "@jupyter-widgets/base",
          "model_name": "LayoutModel",
          "model_module_version": "1.2.0",
          "state": {
            "_model_module": "@jupyter-widgets/base",
            "_model_module_version": "1.2.0",
            "_model_name": "LayoutModel",
            "_view_count": null,
            "_view_module": "@jupyter-widgets/base",
            "_view_module_version": "1.2.0",
            "_view_name": "LayoutView",
            "align_content": null,
            "align_items": null,
            "align_self": null,
            "border": null,
            "bottom": null,
            "display": null,
            "flex": null,
            "flex_flow": null,
            "grid_area": null,
            "grid_auto_columns": null,
            "grid_auto_flow": null,
            "grid_auto_rows": null,
            "grid_column": null,
            "grid_gap": null,
            "grid_row": null,
            "grid_template_areas": null,
            "grid_template_columns": null,
            "grid_template_rows": null,
            "height": null,
            "justify_content": null,
            "justify_items": null,
            "left": null,
            "margin": null,
            "max_height": null,
            "max_width": null,
            "min_height": null,
            "min_width": null,
            "object_fit": null,
            "object_position": null,
            "order": null,
            "overflow": null,
            "overflow_x": null,
            "overflow_y": null,
            "padding": null,
            "right": null,
            "top": null,
            "visibility": null,
            "width": null
          }
        },
        "40ea8aef5435462fa34c4a0b677a8f0e": {
          "model_module": "@jupyter-widgets/controls",
          "model_name": "DescriptionStyleModel",
          "model_module_version": "1.5.0",
          "state": {
            "_model_module": "@jupyter-widgets/controls",
            "_model_module_version": "1.5.0",
            "_model_name": "DescriptionStyleModel",
            "_view_count": null,
            "_view_module": "@jupyter-widgets/base",
            "_view_module_version": "1.2.0",
            "_view_name": "StyleView",
            "description_width": ""
          }
        },
        "1701a4c790a745e1b3d3752b96c3b43d": {
          "model_module": "@jupyter-widgets/controls",
          "model_name": "HBoxModel",
          "model_module_version": "1.5.0",
          "state": {
            "_dom_classes": [],
            "_model_module": "@jupyter-widgets/controls",
            "_model_module_version": "1.5.0",
            "_model_name": "HBoxModel",
            "_view_count": null,
            "_view_module": "@jupyter-widgets/controls",
            "_view_module_version": "1.5.0",
            "_view_name": "HBoxView",
            "box_style": "",
            "children": [
              "IPY_MODEL_bf6b7f6d3f8a436e87006cde4813cefb",
              "IPY_MODEL_4ea7cfc1d72f4f6e893e47384bb12bf2",
              "IPY_MODEL_ff1eb6ba2e07471db7717ddea0c61001"
            ],
            "layout": "IPY_MODEL_0d1d9ab8b8334330b030290ab78ec9d3"
          }
        },
        "bf6b7f6d3f8a436e87006cde4813cefb": {
          "model_module": "@jupyter-widgets/controls",
          "model_name": "HTMLModel",
          "model_module_version": "1.5.0",
          "state": {
            "_dom_classes": [],
            "_model_module": "@jupyter-widgets/controls",
            "_model_module_version": "1.5.0",
            "_model_name": "HTMLModel",
            "_view_count": null,
            "_view_module": "@jupyter-widgets/controls",
            "_view_module_version": "1.5.0",
            "_view_name": "HTMLView",
            "description": "",
            "description_tooltip": null,
            "layout": "IPY_MODEL_23c16bd3f4e24891acc99023ee4ca612",
            "placeholder": "​",
            "style": "IPY_MODEL_1472619c729e4bf1b845bcece2b1d08f",
            "value": "tokenizer.json: 100%"
          }
        },
        "4ea7cfc1d72f4f6e893e47384bb12bf2": {
          "model_module": "@jupyter-widgets/controls",
          "model_name": "FloatProgressModel",
          "model_module_version": "1.5.0",
          "state": {
            "_dom_classes": [],
            "_model_module": "@jupyter-widgets/controls",
            "_model_module_version": "1.5.0",
            "_model_name": "FloatProgressModel",
            "_view_count": null,
            "_view_module": "@jupyter-widgets/controls",
            "_view_module_version": "1.5.0",
            "_view_name": "ProgressView",
            "bar_style": "success",
            "description": "",
            "description_tooltip": null,
            "layout": "IPY_MODEL_b7875db06f6e47fa8ad4feb7a66e5e89",
            "max": 466062,
            "min": 0,
            "orientation": "horizontal",
            "style": "IPY_MODEL_8a6ef292e91645d0b146ab77010e6f8c",
            "value": 466062
          }
        },
        "ff1eb6ba2e07471db7717ddea0c61001": {
          "model_module": "@jupyter-widgets/controls",
          "model_name": "HTMLModel",
          "model_module_version": "1.5.0",
          "state": {
            "_dom_classes": [],
            "_model_module": "@jupyter-widgets/controls",
            "_model_module_version": "1.5.0",
            "_model_name": "HTMLModel",
            "_view_count": null,
            "_view_module": "@jupyter-widgets/controls",
            "_view_module_version": "1.5.0",
            "_view_name": "HTMLView",
            "description": "",
            "description_tooltip": null,
            "layout": "IPY_MODEL_023ef302badc4ae897a43ed2be9c9049",
            "placeholder": "​",
            "style": "IPY_MODEL_61086e1340d840699f5cb249852efacb",
            "value": " 466k/466k [00:00&lt;00:00, 3.62MB/s]"
          }
        },
        "0d1d9ab8b8334330b030290ab78ec9d3": {
          "model_module": "@jupyter-widgets/base",
          "model_name": "LayoutModel",
          "model_module_version": "1.2.0",
          "state": {
            "_model_module": "@jupyter-widgets/base",
            "_model_module_version": "1.2.0",
            "_model_name": "LayoutModel",
            "_view_count": null,
            "_view_module": "@jupyter-widgets/base",
            "_view_module_version": "1.2.0",
            "_view_name": "LayoutView",
            "align_content": null,
            "align_items": null,
            "align_self": null,
            "border": null,
            "bottom": null,
            "display": null,
            "flex": null,
            "flex_flow": null,
            "grid_area": null,
            "grid_auto_columns": null,
            "grid_auto_flow": null,
            "grid_auto_rows": null,
            "grid_column": null,
            "grid_gap": null,
            "grid_row": null,
            "grid_template_areas": null,
            "grid_template_columns": null,
            "grid_template_rows": null,
            "height": null,
            "justify_content": null,
            "justify_items": null,
            "left": null,
            "margin": null,
            "max_height": null,
            "max_width": null,
            "min_height": null,
            "min_width": null,
            "object_fit": null,
            "object_position": null,
            "order": null,
            "overflow": null,
            "overflow_x": null,
            "overflow_y": null,
            "padding": null,
            "right": null,
            "top": null,
            "visibility": null,
            "width": null
          }
        },
        "23c16bd3f4e24891acc99023ee4ca612": {
          "model_module": "@jupyter-widgets/base",
          "model_name": "LayoutModel",
          "model_module_version": "1.2.0",
          "state": {
            "_model_module": "@jupyter-widgets/base",
            "_model_module_version": "1.2.0",
            "_model_name": "LayoutModel",
            "_view_count": null,
            "_view_module": "@jupyter-widgets/base",
            "_view_module_version": "1.2.0",
            "_view_name": "LayoutView",
            "align_content": null,
            "align_items": null,
            "align_self": null,
            "border": null,
            "bottom": null,
            "display": null,
            "flex": null,
            "flex_flow": null,
            "grid_area": null,
            "grid_auto_columns": null,
            "grid_auto_flow": null,
            "grid_auto_rows": null,
            "grid_column": null,
            "grid_gap": null,
            "grid_row": null,
            "grid_template_areas": null,
            "grid_template_columns": null,
            "grid_template_rows": null,
            "height": null,
            "justify_content": null,
            "justify_items": null,
            "left": null,
            "margin": null,
            "max_height": null,
            "max_width": null,
            "min_height": null,
            "min_width": null,
            "object_fit": null,
            "object_position": null,
            "order": null,
            "overflow": null,
            "overflow_x": null,
            "overflow_y": null,
            "padding": null,
            "right": null,
            "top": null,
            "visibility": null,
            "width": null
          }
        },
        "1472619c729e4bf1b845bcece2b1d08f": {
          "model_module": "@jupyter-widgets/controls",
          "model_name": "DescriptionStyleModel",
          "model_module_version": "1.5.0",
          "state": {
            "_model_module": "@jupyter-widgets/controls",
            "_model_module_version": "1.5.0",
            "_model_name": "DescriptionStyleModel",
            "_view_count": null,
            "_view_module": "@jupyter-widgets/base",
            "_view_module_version": "1.2.0",
            "_view_name": "StyleView",
            "description_width": ""
          }
        },
        "b7875db06f6e47fa8ad4feb7a66e5e89": {
          "model_module": "@jupyter-widgets/base",
          "model_name": "LayoutModel",
          "model_module_version": "1.2.0",
          "state": {
            "_model_module": "@jupyter-widgets/base",
            "_model_module_version": "1.2.0",
            "_model_name": "LayoutModel",
            "_view_count": null,
            "_view_module": "@jupyter-widgets/base",
            "_view_module_version": "1.2.0",
            "_view_name": "LayoutView",
            "align_content": null,
            "align_items": null,
            "align_self": null,
            "border": null,
            "bottom": null,
            "display": null,
            "flex": null,
            "flex_flow": null,
            "grid_area": null,
            "grid_auto_columns": null,
            "grid_auto_flow": null,
            "grid_auto_rows": null,
            "grid_column": null,
            "grid_gap": null,
            "grid_row": null,
            "grid_template_areas": null,
            "grid_template_columns": null,
            "grid_template_rows": null,
            "height": null,
            "justify_content": null,
            "justify_items": null,
            "left": null,
            "margin": null,
            "max_height": null,
            "max_width": null,
            "min_height": null,
            "min_width": null,
            "object_fit": null,
            "object_position": null,
            "order": null,
            "overflow": null,
            "overflow_x": null,
            "overflow_y": null,
            "padding": null,
            "right": null,
            "top": null,
            "visibility": null,
            "width": null
          }
        },
        "8a6ef292e91645d0b146ab77010e6f8c": {
          "model_module": "@jupyter-widgets/controls",
          "model_name": "ProgressStyleModel",
          "model_module_version": "1.5.0",
          "state": {
            "_model_module": "@jupyter-widgets/controls",
            "_model_module_version": "1.5.0",
            "_model_name": "ProgressStyleModel",
            "_view_count": null,
            "_view_module": "@jupyter-widgets/base",
            "_view_module_version": "1.2.0",
            "_view_name": "StyleView",
            "bar_color": null,
            "description_width": ""
          }
        },
        "023ef302badc4ae897a43ed2be9c9049": {
          "model_module": "@jupyter-widgets/base",
          "model_name": "LayoutModel",
          "model_module_version": "1.2.0",
          "state": {
            "_model_module": "@jupyter-widgets/base",
            "_model_module_version": "1.2.0",
            "_model_name": "LayoutModel",
            "_view_count": null,
            "_view_module": "@jupyter-widgets/base",
            "_view_module_version": "1.2.0",
            "_view_name": "LayoutView",
            "align_content": null,
            "align_items": null,
            "align_self": null,
            "border": null,
            "bottom": null,
            "display": null,
            "flex": null,
            "flex_flow": null,
            "grid_area": null,
            "grid_auto_columns": null,
            "grid_auto_flow": null,
            "grid_auto_rows": null,
            "grid_column": null,
            "grid_gap": null,
            "grid_row": null,
            "grid_template_areas": null,
            "grid_template_columns": null,
            "grid_template_rows": null,
            "height": null,
            "justify_content": null,
            "justify_items": null,
            "left": null,
            "margin": null,
            "max_height": null,
            "max_width": null,
            "min_height": null,
            "min_width": null,
            "object_fit": null,
            "object_position": null,
            "order": null,
            "overflow": null,
            "overflow_x": null,
            "overflow_y": null,
            "padding": null,
            "right": null,
            "top": null,
            "visibility": null,
            "width": null
          }
        },
        "61086e1340d840699f5cb249852efacb": {
          "model_module": "@jupyter-widgets/controls",
          "model_name": "DescriptionStyleModel",
          "model_module_version": "1.5.0",
          "state": {
            "_model_module": "@jupyter-widgets/controls",
            "_model_module_version": "1.5.0",
            "_model_name": "DescriptionStyleModel",
            "_view_count": null,
            "_view_module": "@jupyter-widgets/base",
            "_view_module_version": "1.2.0",
            "_view_name": "StyleView",
            "description_width": ""
          }
        }
      }
    }
  },
  "cells": [
    {
      "cell_type": "markdown",
      "metadata": {
        "id": "view-in-github",
        "colab_type": "text"
      },
      "source": [
        "<a href=\"https://colab.research.google.com/github/MyeongGuJo/Transformer/blob/main/Transformer_1.ipynb\" target=\"_parent\"><img src=\"https://colab.research.google.com/assets/colab-badge.svg\" alt=\"Open In Colab\"/></a>"
      ]
    },
    {
      "cell_type": "code",
      "execution_count": 1,
      "metadata": {
        "colab": {
          "base_uri": "https://localhost:8080/"
        },
        "id": "8vczM8tzAJaJ",
        "outputId": "5cd40ad9-b20a-4cae-a87c-f006aae5531e"
      },
      "outputs": [
        {
          "output_type": "stream",
          "name": "stdout",
          "text": [
            "Requirement already satisfied: transformers in /usr/local/lib/python3.10/dist-packages (4.35.2)\n",
            "Requirement already satisfied: filelock in /usr/local/lib/python3.10/dist-packages (from transformers) (3.13.1)\n",
            "Requirement already satisfied: huggingface-hub<1.0,>=0.16.4 in /usr/local/lib/python3.10/dist-packages (from transformers) (0.19.4)\n",
            "Requirement already satisfied: numpy>=1.17 in /usr/local/lib/python3.10/dist-packages (from transformers) (1.23.5)\n",
            "Requirement already satisfied: packaging>=20.0 in /usr/local/lib/python3.10/dist-packages (from transformers) (23.2)\n",
            "Requirement already satisfied: pyyaml>=5.1 in /usr/local/lib/python3.10/dist-packages (from transformers) (6.0.1)\n",
            "Requirement already satisfied: regex!=2019.12.17 in /usr/local/lib/python3.10/dist-packages (from transformers) (2023.6.3)\n",
            "Requirement already satisfied: requests in /usr/local/lib/python3.10/dist-packages (from transformers) (2.31.0)\n",
            "Requirement already satisfied: tokenizers<0.19,>=0.14 in /usr/local/lib/python3.10/dist-packages (from transformers) (0.15.0)\n",
            "Requirement already satisfied: safetensors>=0.3.1 in /usr/local/lib/python3.10/dist-packages (from transformers) (0.4.0)\n",
            "Requirement already satisfied: tqdm>=4.27 in /usr/local/lib/python3.10/dist-packages (from transformers) (4.66.1)\n",
            "Requirement already satisfied: fsspec>=2023.5.0 in /usr/local/lib/python3.10/dist-packages (from huggingface-hub<1.0,>=0.16.4->transformers) (2023.6.0)\n",
            "Requirement already satisfied: typing-extensions>=3.7.4.3 in /usr/local/lib/python3.10/dist-packages (from huggingface-hub<1.0,>=0.16.4->transformers) (4.5.0)\n",
            "Requirement already satisfied: charset-normalizer<4,>=2 in /usr/local/lib/python3.10/dist-packages (from requests->transformers) (3.3.2)\n",
            "Requirement already satisfied: idna<4,>=2.5 in /usr/local/lib/python3.10/dist-packages (from requests->transformers) (3.4)\n",
            "Requirement already satisfied: urllib3<3,>=1.21.1 in /usr/local/lib/python3.10/dist-packages (from requests->transformers) (2.0.7)\n",
            "Requirement already satisfied: certifi>=2017.4.17 in /usr/local/lib/python3.10/dist-packages (from requests->transformers) (2023.7.22)\n"
          ]
        }
      ],
      "source": [
        "!pip install transformers"
      ]
    },
    {
      "cell_type": "code",
      "source": [
        "import torch\n",
        "import torch.nn as nn\n",
        "import torch.nn.functional as F\n",
        "\n",
        "import numpy as np\n",
        "import pandas as pd"
      ],
      "metadata": {
        "id": "kvrXsAA6ANsK"
      },
      "execution_count": 2,
      "outputs": []
    },
    {
      "cell_type": "code",
      "source": [
        "class Attention(nn.Module):\n",
        "  def __init__(self, dim, device):\n",
        "    super().__init__()\n",
        "    self.q_proj = nn.Linear(dim, dim, device=device)\n",
        "    self.k_proj = nn.Linear(dim, dim, device=device)\n",
        "    self.v_proj = nn.Linear(dim, dim, device=device)\n",
        "\n",
        "  def forward(self, Q, K, V, padding_mask, causal_mask = None):\n",
        "    query = self.q_proj(Q)\n",
        "    key = self.k_proj(K)\n",
        "    value = self.v_proj(V)\n",
        "\n",
        "    # Q.shape = bs * seq_len * dim\n",
        "\n",
        "    bs = query.shape[0]\n",
        "\n",
        "    energy = query.matmul(key.transpose(-1, -2))\n",
        "\n",
        "    # scaling\n",
        "    d_k = key.size(-1)**(1/2)\n",
        "    energy = energy / d_k\n",
        "\n",
        "    mask = padding_mask.unsqueeze(1)\n",
        "\n",
        "    if causal_mask is not None:\n",
        "      mask = mask * causal_mask\n",
        "\n",
        "    energy = energy.masked_fill(mask == 0, -1e9)\n",
        "\n",
        "    output = F.softmax(energy, -1)\n",
        "    output = output.matmul(value)\n",
        "\n",
        "    return output"
      ],
      "metadata": {
        "id": "m60ZeFAmQhoh"
      },
      "execution_count": 3,
      "outputs": []
    },
    {
      "cell_type": "code",
      "source": [
        "class FeedForward(nn.Module):\n",
        "  def __init__(self, d, device):\n",
        "    super().__init__()\n",
        "    self.inner_proj = nn.Linear(d, d*4, bias=False, device=device)\n",
        "    self.outer_proj = nn.Linear(d*4, d, bias=False, device=device)\n",
        "\n",
        "  def forward(self, x):\n",
        "    inner = self.inner_proj(x)\n",
        "    output = F.relu(inner)\n",
        "\n",
        "    output = self.outer_proj(output)\n",
        "\n",
        "    return output"
      ],
      "metadata": {
        "id": "kuOIk_K2VS3D"
      },
      "execution_count": 4,
      "outputs": []
    },
    {
      "cell_type": "code",
      "source": [
        "class Encoder(nn.Module):\n",
        "  def __init__(self, vocab_size, dim, max_seq_len, device):\n",
        "    super().__init__()\n",
        "    self.embedding = nn.Embedding(num_embeddings=vocab_size, embedding_dim=dim, padding_idx=0, device=device)\n",
        "    self.pos_embedding = nn.Embedding(128, dim, device=device) # max_length = 128\n",
        "    self.max_seq_len = max_seq_len\n",
        "\n",
        "    self.layer_norm = nn.LayerNorm(dim, device=device)\n",
        "\n",
        "    self.self_attention = Attention(dim, device=device)\n",
        "\n",
        "    self.feed_forward = FeedForward(dim, device=device)\n",
        "\n",
        "    #self.device = device\n",
        "    self.register_buffer('pos', torch.arange(0, self.max_seq_len).to(device))\n",
        "\n",
        "  def forward(self, input, input_mask):\n",
        "    input_pos = self.pos\n",
        "    input_seq = self.embedding(input) + self.pos_embedding(input_pos)\n",
        "\n",
        "    # self attention\n",
        "    residual = input_seq\n",
        "    output = self.self_attention(input_seq, input_seq, input_seq, input_mask)\n",
        "\n",
        "    # Add & Norm\n",
        "    output = self.layer_norm(output)\n",
        "    output = residual + output\n",
        "\n",
        "    # Feed Forward\n",
        "    residual = output\n",
        "    output = self.feed_forward(output)\n",
        "\n",
        "    # Add & Norm\n",
        "    output = residual + output\n",
        "    output = self.layer_norm(output)\n",
        "\n",
        "    return output"
      ],
      "metadata": {
        "id": "XO8BTtWBa2px"
      },
      "execution_count": 5,
      "outputs": []
    },
    {
      "cell_type": "code",
      "source": [
        "class Decoder(nn.Module):\n",
        "  def __init__(self, vocab_size, dim, max_seq_len, device):\n",
        "    super().__init__()\n",
        "    self.embedding = nn.Embedding(num_embeddings=vocab_size, embedding_dim=dim, padding_idx=0, device=device)\n",
        "    self.pos_embedding = nn.Embedding(max_seq_len, dim, device=device) # max_length = 128\n",
        "    self.max_seq_len = max_seq_len\n",
        "\n",
        "    self.layer_norm = nn.LayerNorm(dim, device=device)\n",
        "\n",
        "    self.self_attention = Attention(dim, device=device)\n",
        "    self.cross_attention = Attention(dim, device=device)\n",
        "\n",
        "    self.feed_forward = FeedForward(dim, device=device)\n",
        "\n",
        "    self.out_proj = nn.Linear(dim, vocab_size, device=device)\n",
        "\n",
        "    self.device = device\n",
        "    self.register_buffer('pos', torch.arange(0, self.max_seq_len).to(device))\n",
        "\n",
        "  def forward(self, input, input_mask, enc_output):\n",
        "    input_pos = self.pos\n",
        "    input_seq = self.embedding(input) + self.pos_embedding(input_pos)\n",
        "\n",
        "    # mask (bs == 16)\n",
        "    bs, dim = input.shape\n",
        "    m = torch.tril(torch.ones(bs, self.max_seq_len, dim, dtype=int)).to(self.device)\n",
        "\n",
        "    # self attention\n",
        "    residual = input_seq\n",
        "    output = self.self_attention(input_seq, input_seq, input_seq, input_mask, causal_mask=m)\n",
        "\n",
        "    # Add & Norm\n",
        "    output = self.layer_norm(output)\n",
        "    output = residual + output\n",
        "\n",
        "    # cross attention\n",
        "    residual = output\n",
        "    output = self.cross_attention(output, enc_output, enc_output, input_mask, causal_mask=m)\n",
        "\n",
        "    # Add & Norm\n",
        "    output = residual + output\n",
        "    output = self.layer_norm(output)\n",
        "\n",
        "    # Feed Forward\n",
        "    residual = output\n",
        "    output = self.feed_forward(output)\n",
        "\n",
        "    # Add & Norm\n",
        "    output = residual + output\n",
        "    output = self.layer_norm(output)\n",
        "\n",
        "\n",
        "    # Linear & Softmax\n",
        "    logits = self.out_proj(output)\n",
        "\n",
        "    return logits"
      ],
      "metadata": {
        "id": "hGknRpFeJNGW"
      },
      "execution_count": 6,
      "outputs": []
    },
    {
      "cell_type": "code",
      "source": [
        "class Transformer(nn.Module):\n",
        "  def __init__(self, vocab_size, input_dim, output_dim, max_seq_len, device):\n",
        "    super().__init__()\n",
        "    self.encoder = Encoder(vocab_size, input_dim, max_seq_len, device)\n",
        "    self.decoder = Decoder(vocab_size, output_dim, max_seq_len, device)\n",
        "\n",
        "  def forward(self, enc_src, enc_mask, dec_src, dec_mask):\n",
        "    # enc_src: (bs, seq_len)\n",
        "    # dec_src: (bs, seq_len)\n",
        "\n",
        "    enc_output = self.encoder(enc_src , enc_mask)\n",
        "    logits = self.decoder(dec_src, dec_mask, enc_output)\n",
        "\n",
        "    return logits"
      ],
      "metadata": {
        "id": "IHtV_y_jFDoY"
      },
      "execution_count": 7,
      "outputs": []
    },
    {
      "cell_type": "code",
      "source": [
        "from transformers import AutoTokenizer\n",
        "\n",
        "tokenizer = AutoTokenizer.from_pretrained('bert-base-uncased')\n",
        "encoded = tokenizer('I am an undergraduated', return_tensors='pt')\n",
        "print(encoded)"
      ],
      "metadata": {
        "colab": {
          "base_uri": "https://localhost:8080/",
          "height": 183,
          "referenced_widgets": [
            "b116a19e09944669b0c1e0a69bd71669",
            "abc1a4287e384e22aa794958ab47bd7c",
            "23973c15a306422faba7a4465230a5eb",
            "f282b0421f814b8b8a2c56b1e882bf46",
            "f971a0e83d734bbbbc76765cba417fe9",
            "7c6146cd60984158a7ad1de7c6d5fb13",
            "b7eb4e7f336c47af91ec5b8ad442af78",
            "f3ef9e24fb3b4453ade6accee639a42e",
            "33de4d7dbcfa465792999b54b410d576",
            "6abf030c580b4f67b13a17c617945c59",
            "7580e49077324bafb66246e13b2787f1",
            "609b7b51237447c9be91418f0416d759",
            "a132954c93b747188f8d30f7819a7a9f",
            "672cea6f532f4a02bf36b09bfe1f668b",
            "53f2fa5bbeb040d1abc0b78fe35ab775",
            "01ab50a778cf400d934ce47918e58b75",
            "bc9247e0702248b9a2a8d33e8a98947c",
            "bcf5d8ac86b64b25a5b84861ad4267dd",
            "3546c3f44004449f9b4c02f0f5beef91",
            "b1788c74e22f4acda8d24d8110b01753",
            "95707d8419724db0aa05bd594a72895d",
            "d97bf4d560124b7899cbbad61be88eb0",
            "c5332b8620a643949236788398845411",
            "5c1028b5348a4833bc6678fb4498b2ba",
            "0dc8790be5f440bc979bd5042f8fc12e",
            "876f090b71744e749a39df804259d20f",
            "e0d4b08ee3b644c89b5adab1b40fc62b",
            "3b6d22e0773c4602b0aff551ca91a84b",
            "6a8d85e5c4da4d4785ab562a1e43b524",
            "4ab6c24df49f4ce6a6ef3f1bdef9de60",
            "c171fe0d6517433689ea194faad921c6",
            "83de09efdb6a4eff8aa78eb79e44a792",
            "40ea8aef5435462fa34c4a0b677a8f0e",
            "1701a4c790a745e1b3d3752b96c3b43d",
            "bf6b7f6d3f8a436e87006cde4813cefb",
            "4ea7cfc1d72f4f6e893e47384bb12bf2",
            "ff1eb6ba2e07471db7717ddea0c61001",
            "0d1d9ab8b8334330b030290ab78ec9d3",
            "23c16bd3f4e24891acc99023ee4ca612",
            "1472619c729e4bf1b845bcece2b1d08f",
            "b7875db06f6e47fa8ad4feb7a66e5e89",
            "8a6ef292e91645d0b146ab77010e6f8c",
            "023ef302badc4ae897a43ed2be9c9049",
            "61086e1340d840699f5cb249852efacb"
          ]
        },
        "id": "MgYkusiAAO3Q",
        "outputId": "288d2cbf-a264-4489-ec3f-42981517563f"
      },
      "execution_count": 8,
      "outputs": [
        {
          "output_type": "display_data",
          "data": {
            "text/plain": [
              "tokenizer_config.json:   0%|          | 0.00/28.0 [00:00<?, ?B/s]"
            ],
            "application/vnd.jupyter.widget-view+json": {
              "version_major": 2,
              "version_minor": 0,
              "model_id": "b116a19e09944669b0c1e0a69bd71669"
            }
          },
          "metadata": {}
        },
        {
          "output_type": "display_data",
          "data": {
            "text/plain": [
              "config.json:   0%|          | 0.00/570 [00:00<?, ?B/s]"
            ],
            "application/vnd.jupyter.widget-view+json": {
              "version_major": 2,
              "version_minor": 0,
              "model_id": "609b7b51237447c9be91418f0416d759"
            }
          },
          "metadata": {}
        },
        {
          "output_type": "display_data",
          "data": {
            "text/plain": [
              "vocab.txt:   0%|          | 0.00/232k [00:00<?, ?B/s]"
            ],
            "application/vnd.jupyter.widget-view+json": {
              "version_major": 2,
              "version_minor": 0,
              "model_id": "c5332b8620a643949236788398845411"
            }
          },
          "metadata": {}
        },
        {
          "output_type": "display_data",
          "data": {
            "text/plain": [
              "tokenizer.json:   0%|          | 0.00/466k [00:00<?, ?B/s]"
            ],
            "application/vnd.jupyter.widget-view+json": {
              "version_major": 2,
              "version_minor": 0,
              "model_id": "1701a4c790a745e1b3d3752b96c3b43d"
            }
          },
          "metadata": {}
        },
        {
          "output_type": "stream",
          "name": "stdout",
          "text": [
            "{'input_ids': tensor([[ 101, 1045, 2572, 2019, 8324, 2094,  102]]), 'token_type_ids': tensor([[0, 0, 0, 0, 0, 0, 0]]), 'attention_mask': tensor([[1, 1, 1, 1, 1, 1, 1]])}\n"
          ]
        }
      ]
    },
    {
      "cell_type": "code",
      "source": [
        "# 데이터 불러오기\n",
        "import pandas as pd\n",
        "\n",
        "excel_file = pd.read_excel('/content/drive/MyDrive/kor_eng_excel_dataset/2_대화체_190920.xlsx')\n",
        "kor_dataset = list(excel_file['한국어'].values)\n",
        "eng_dataset = list(excel_file['영어'].values)"
      ],
      "metadata": {
        "id": "QIor6rsJ_WVF"
      },
      "execution_count": 9,
      "outputs": []
    },
    {
      "cell_type": "code",
      "source": [
        "eng_dataset[:5]"
      ],
      "metadata": {
        "colab": {
          "base_uri": "https://localhost:8080/"
        },
        "id": "iXb4D4KeABM1",
        "outputId": "56e7cabe-27cf-46c9-f0d5-d0e47c86f6cf"
      },
      "execution_count": 10,
      "outputs": [
        {
          "output_type": "execute_result",
          "data": {
            "text/plain": [
              "['Do you know which part our test is going to cover? I come to class last week.',\n",
              " 'Yes. Our test will be from page 100 to page 250.',\n",
              " 'I see, thanks! Did you have any additional information?',\n",
              " 'Yes. The professor also told us to look at the presentation materials that he gave us last week.',\n",
              " \"I'm currently analyzing the level of difficulties of our past exams. What do you think this exam will be like?\"]"
            ]
          },
          "metadata": {},
          "execution_count": 10
        }
      ]
    },
    {
      "cell_type": "code",
      "source": [
        "encoded_kor = tokenizer(kor_dataset, return_tensors='pt', padding='max_length', truncation=True, max_length=128)\n",
        "encoded_eng = tokenizer(eng_dataset, return_tensors='pt', padding='max_length', truncation=True, max_length=128)\n",
        "\n",
        "train_data = encoded_kor['input_ids']\n",
        "train_mask = encoded_kor['attention_mask']\n",
        "target_data = encoded_eng['input_ids']\n",
        "target_mask = encoded_eng['attention_mask']"
      ],
      "metadata": {
        "id": "m0g1eaD-tZDv"
      },
      "execution_count": 11,
      "outputs": []
    },
    {
      "cell_type": "code",
      "source": [
        "train_data[0]"
      ],
      "metadata": {
        "colab": {
          "base_uri": "https://localhost:8080/"
        },
        "id": "Eckf3h0PP1kO",
        "outputId": "2610d854-b347-4f70-f104-012a78421d7c"
      },
      "execution_count": 12,
      "outputs": [
        {
          "output_type": "execute_result",
          "data": {
            "text/plain": [
              "tensor([  101,  1463, 30019, 29996, 30008, 30021,  1461, 30019, 30005, 30008,\n",
              "        30023,  1469, 30011, 30020, 29997, 30019,   100,   100,   100,  1463,\n",
              "        30006, 29997, 30009, 29999, 30013,  1029,  1464, 30009, 29991, 30006,\n",
              "         1464, 30019, 29992, 30006, 30021, 30000, 30014,  1461, 30014, 29999,\n",
              "        30008, 30024, 29999, 30017, 30022,   100,  1012,   102,     0,     0,\n",
              "            0,     0,     0,     0,     0,     0,     0,     0,     0,     0,\n",
              "            0,     0,     0,     0,     0,     0,     0,     0,     0,     0,\n",
              "            0,     0,     0,     0,     0,     0,     0,     0,     0,     0,\n",
              "            0,     0,     0,     0,     0,     0,     0,     0,     0,     0,\n",
              "            0,     0,     0,     0,     0,     0,     0,     0,     0,     0,\n",
              "            0,     0,     0,     0,     0,     0,     0,     0,     0,     0,\n",
              "            0,     0,     0,     0,     0,     0,     0,     0,     0,     0,\n",
              "            0,     0,     0,     0,     0,     0,     0,     0])"
            ]
          },
          "metadata": {},
          "execution_count": 12
        }
      ]
    },
    {
      "cell_type": "code",
      "source": [
        "len(tokenizer.vocab), train_mask.shape, target_mask.shape"
      ],
      "metadata": {
        "colab": {
          "base_uri": "https://localhost:8080/"
        },
        "id": "r94e12kO0TiF",
        "outputId": "44a49961-e3a3-464d-9645-b8192edbb718"
      },
      "execution_count": 13,
      "outputs": [
        {
          "output_type": "execute_result",
          "data": {
            "text/plain": [
              "(30522, torch.Size([11756, 128]), torch.Size([11756, 128]))"
            ]
          },
          "metadata": {},
          "execution_count": 13
        }
      ]
    },
    {
      "cell_type": "code",
      "source": [
        "encoded_kor['input_ids'].shape, encoded_eng['input_ids'].shape[-1]"
      ],
      "metadata": {
        "colab": {
          "base_uri": "https://localhost:8080/"
        },
        "id": "6pXrASsZtuCZ",
        "outputId": "0ac82c97-759f-4635-a700-1fd4ee336a31"
      },
      "execution_count": 14,
      "outputs": [
        {
          "output_type": "execute_result",
          "data": {
            "text/plain": [
              "(torch.Size([11756, 128]), 128)"
            ]
          },
          "metadata": {},
          "execution_count": 14
        }
      ]
    },
    {
      "cell_type": "code",
      "source": [
        "vocab_size = len(tokenizer.vocab)\n",
        "input_dim = 256\n",
        "output_dim = 256\n",
        "max_seq_len = 128\n",
        "batch_size = 64\n",
        "LEARNING_RATE = 0.0005\n",
        "device = torch.device('cuda' if torch.cuda.is_available() else 'cpu')"
      ],
      "metadata": {
        "id": "vyG63MQLEFIP"
      },
      "execution_count": 15,
      "outputs": []
    },
    {
      "cell_type": "code",
      "source": [
        "model = Transformer(vocab_size, input_dim, output_dim, max_seq_len, device)"
      ],
      "metadata": {
        "id": "VcS4z9DDIHjn"
      },
      "execution_count": 16,
      "outputs": []
    },
    {
      "cell_type": "code",
      "source": [
        "# initialize model parameters\n",
        "def count_parameters(model):\n",
        "    return sum(p.numel() for p in model.parameters() if p.requires_grad)\n",
        "\n",
        "print(f'The model has {count_parameters(model):,} trainable parameters')"
      ],
      "metadata": {
        "colab": {
          "base_uri": "https://localhost:8080/"
        },
        "id": "opayhn-DJNJd",
        "outputId": "a37f9b38-6d46-4132-a790-1ac9db0c7cfb"
      },
      "execution_count": 17,
      "outputs": [
        {
          "output_type": "stream",
          "name": "stdout",
          "text": [
            "The model has 25,178,682 trainable parameters\n"
          ]
        }
      ]
    },
    {
      "cell_type": "code",
      "source": [
        "def initialize_weights(m):\n",
        "    if hasattr(m, 'weight') and m.weight.dim() > 1:\n",
        "        nn.init.xavier_uniform_(m.weight.data)\n",
        "\n",
        "model.apply(initialize_weights)"
      ],
      "metadata": {
        "colab": {
          "base_uri": "https://localhost:8080/"
        },
        "id": "btolLBdKJV4z",
        "outputId": "34eb1e29-6480-4006-fae5-3d4eb363166d"
      },
      "execution_count": 18,
      "outputs": [
        {
          "output_type": "execute_result",
          "data": {
            "text/plain": [
              "Transformer(\n",
              "  (encoder): Encoder(\n",
              "    (embedding): Embedding(30522, 256, padding_idx=0)\n",
              "    (pos_embedding): Embedding(128, 256)\n",
              "    (layer_norm): LayerNorm((256,), eps=1e-05, elementwise_affine=True)\n",
              "    (self_attention): Attention(\n",
              "      (q_proj): Linear(in_features=256, out_features=256, bias=True)\n",
              "      (k_proj): Linear(in_features=256, out_features=256, bias=True)\n",
              "      (v_proj): Linear(in_features=256, out_features=256, bias=True)\n",
              "    )\n",
              "    (feed_forward): FeedForward(\n",
              "      (inner_proj): Linear(in_features=256, out_features=1024, bias=False)\n",
              "      (outer_proj): Linear(in_features=1024, out_features=256, bias=False)\n",
              "    )\n",
              "  )\n",
              "  (decoder): Decoder(\n",
              "    (embedding): Embedding(30522, 256, padding_idx=0)\n",
              "    (pos_embedding): Embedding(128, 256)\n",
              "    (layer_norm): LayerNorm((256,), eps=1e-05, elementwise_affine=True)\n",
              "    (self_attention): Attention(\n",
              "      (q_proj): Linear(in_features=256, out_features=256, bias=True)\n",
              "      (k_proj): Linear(in_features=256, out_features=256, bias=True)\n",
              "      (v_proj): Linear(in_features=256, out_features=256, bias=True)\n",
              "    )\n",
              "    (cross_attention): Attention(\n",
              "      (q_proj): Linear(in_features=256, out_features=256, bias=True)\n",
              "      (k_proj): Linear(in_features=256, out_features=256, bias=True)\n",
              "      (v_proj): Linear(in_features=256, out_features=256, bias=True)\n",
              "    )\n",
              "    (feed_forward): FeedForward(\n",
              "      (inner_proj): Linear(in_features=256, out_features=1024, bias=False)\n",
              "      (outer_proj): Linear(in_features=1024, out_features=256, bias=False)\n",
              "    )\n",
              "    (out_proj): Linear(in_features=256, out_features=30522, bias=True)\n",
              "  )\n",
              ")"
            ]
          },
          "metadata": {},
          "execution_count": 18
        }
      ]
    },
    {
      "cell_type": "code",
      "source": [
        "import torch.optim as optim\n",
        "\n",
        "# Adam optimizer\n",
        "optimizer = torch.optim.Adam(model.parameters(), lr=LEARNING_RATE)\n",
        "\n",
        "CEL_loss = nn.CrossEntropyLoss(ignore_index=0)"
      ],
      "metadata": {
        "id": "o58DmDSaJg-V"
      },
      "execution_count": 19,
      "outputs": []
    },
    {
      "cell_type": "code",
      "source": [
        "vocab_size, input_dim, output_dim"
      ],
      "metadata": {
        "colab": {
          "base_uri": "https://localhost:8080/"
        },
        "id": "gNBX_RxrzW8Q",
        "outputId": "5a0814ad-d957-405a-bf2b-4705aa5c1c8f"
      },
      "execution_count": 20,
      "outputs": [
        {
          "output_type": "execute_result",
          "data": {
            "text/plain": [
              "(30522, 256, 256)"
            ]
          },
          "metadata": {},
          "execution_count": 20
        }
      ]
    },
    {
      "cell_type": "code",
      "source": [
        "train_data[0].shape"
      ],
      "metadata": {
        "colab": {
          "base_uri": "https://localhost:8080/"
        },
        "id": "6c000oc2EU1J",
        "outputId": "441f2b6c-647b-403d-9753-e6329b926c17"
      },
      "execution_count": 21,
      "outputs": [
        {
          "output_type": "execute_result",
          "data": {
            "text/plain": [
              "torch.Size([128])"
            ]
          },
          "metadata": {},
          "execution_count": 21
        }
      ]
    },
    {
      "cell_type": "code",
      "source": [
        "num_it = train_data.shape[0]"
      ],
      "metadata": {
        "id": "6ChNCn-Fve2x"
      },
      "execution_count": 22,
      "outputs": []
    },
    {
      "cell_type": "code",
      "source": [
        "def label_shift_left(input_ids):\n",
        "  bs = input_ids.shape[0]\n",
        "  new_input_ids = input_ids[:, 1:] # 256->255\n",
        "  new_input_ids = torch.cat((new_input_ids, torch.LongTensor([[0] for _ in range(bs)]).to(device)), -1)\n",
        "\n",
        "  return new_input_ids"
      ],
      "metadata": {
        "id": "B0EFubrqVQs-"
      },
      "execution_count": 23,
      "outputs": []
    },
    {
      "cell_type": "code",
      "source": [
        "from torch.utils.data import TensorDataset\n",
        "from torch.utils.data import DataLoader\n",
        "\n",
        "dataset = TensorDataset(train_data, train_mask, target_data, target_mask)\n",
        "\n",
        "dataloader = DataLoader(dataset, batch_size=batch_size, shuffle=True)"
      ],
      "metadata": {
        "id": "66dujkqBRb_L"
      },
      "execution_count": 24,
      "outputs": []
    },
    {
      "cell_type": "code",
      "source": [
        "for epoch in range(5):\n",
        "\n",
        "  model.train()\n",
        "  epoch_loss = 0\n",
        "\n",
        "  # gradient descent\n",
        "  for i, samples in enumerate(dataloader):\n",
        "\n",
        "    optimizer.zero_grad()\n",
        "\n",
        "    src, src_mask, trg, trg_mask = samples\n",
        "\n",
        "    src = src.to(device)\n",
        "    src_mask = src_mask.to(device)\n",
        "    trg = trg.to(device)\n",
        "    trg_mask = trg_mask.to(device)\n",
        "\n",
        "    trg_shifted = label_shift_left(trg)\n",
        "    mask_shifted = label_shift_left(trg_mask)\n",
        "\n",
        "    logits = model(src,\n",
        "                   src_mask,\n",
        "                   trg,\n",
        "                   trg_mask\n",
        "                   )\n",
        "\n",
        "    logits = logits.reshape(-1, logits.shape[-1])\n",
        "    trg_shifted = trg_shifted.reshape(-1)\n",
        "    loss = CEL_loss(logits,trg_shifted)\n",
        "    loss.backward()\n",
        "\n",
        "    torch.nn.utils.clip_grad_norm_(model.parameters(), 1)\n",
        "    # print(f'loss: {loss.item()}')\n",
        "    optimizer.step()\n",
        "\n",
        "    epoch_loss += loss.item()\n",
        "\n",
        "  print(f'Epoch: {epoch} | Train Loss: {epoch_loss / len(dataloader)}')\n",
        "\n",
        "  for i, param in enumerate(model.parameters()):\n",
        "    if i == 5:\n",
        "      break\n",
        "    print(param.reshape(-1)[:5])\n",
        "  print('')"
      ],
      "metadata": {
        "colab": {
          "base_uri": "https://localhost:8080/"
        },
        "id": "GpzMdd7EHUiE",
        "outputId": "fcd67316-d16b-4a36-feb5-560d5ecf9e42"
      },
      "execution_count": 25,
      "outputs": [
        {
          "output_type": "stream",
          "name": "stdout",
          "text": [
            "Epoch: 0 | Train Loss: 5.812035832716071\n",
            "tensor([-0.0001, -0.0081, -0.0069,  0.0016,  0.0050], device='cuda:0',\n",
            "       grad_fn=<SliceBackward0>)\n",
            "tensor([-0.0969,  0.0204, -0.0484,  0.0125, -0.0105], device='cuda:0',\n",
            "       grad_fn=<SliceBackward0>)\n",
            "tensor([0.9985, 0.9926, 0.9963, 0.9934, 0.9945], device='cuda:0',\n",
            "       grad_fn=<SliceBackward0>)\n",
            "tensor([-0.0027,  0.0088, -0.0032,  0.0023, -0.0043], device='cuda:0',\n",
            "       grad_fn=<SliceBackward0>)\n",
            "tensor([0.0099, 0.0969, 0.0297, 0.0920, 0.1129], device='cuda:0',\n",
            "       grad_fn=<SliceBackward0>)\n",
            "\n",
            "Epoch: 1 | Train Loss: 4.438894725364188\n",
            "tensor([-0.0001, -0.0081, -0.0069,  0.0016,  0.0050], device='cuda:0',\n",
            "       grad_fn=<SliceBackward0>)\n",
            "tensor([-0.0943,  0.0144, -0.0534,  0.0120, -0.0147], device='cuda:0',\n",
            "       grad_fn=<SliceBackward0>)\n",
            "tensor([0.9997, 0.9913, 0.9886, 0.9914, 0.9899], device='cuda:0',\n",
            "       grad_fn=<SliceBackward0>)\n",
            "tensor([-0.0028,  0.0089, -0.0028,  0.0054, -0.0079], device='cuda:0',\n",
            "       grad_fn=<SliceBackward0>)\n",
            "tensor([0.0068, 0.0993, 0.0257, 0.0658, 0.1248], device='cuda:0',\n",
            "       grad_fn=<SliceBackward0>)\n",
            "\n",
            "Epoch: 2 | Train Loss: 3.966831044010494\n",
            "tensor([-0.0001, -0.0081, -0.0069,  0.0016,  0.0050], device='cuda:0',\n",
            "       grad_fn=<SliceBackward0>)\n",
            "tensor([-0.0935,  0.0108, -0.0502,  0.0147, -0.0210], device='cuda:0',\n",
            "       grad_fn=<SliceBackward0>)\n",
            "tensor([0.9979, 0.9899, 0.9927, 0.9918, 0.9876], device='cuda:0',\n",
            "       grad_fn=<SliceBackward0>)\n",
            "tensor([-0.0036,  0.0103, -0.0034,  0.0061, -0.0102], device='cuda:0',\n",
            "       grad_fn=<SliceBackward0>)\n",
            "tensor([0.0110, 0.0959, 0.0300, 0.0505, 0.1248], device='cuda:0',\n",
            "       grad_fn=<SliceBackward0>)\n",
            "\n",
            "Epoch: 3 | Train Loss: 3.628549242797105\n",
            "tensor([-0.0001, -0.0081, -0.0069,  0.0016,  0.0050], device='cuda:0',\n",
            "       grad_fn=<SliceBackward0>)\n",
            "tensor([-0.0984,  0.0094, -0.0472,  0.0281, -0.0271], device='cuda:0',\n",
            "       grad_fn=<SliceBackward0>)\n",
            "tensor([0.9969, 0.9867, 0.9989, 0.9932, 0.9857], device='cuda:0',\n",
            "       grad_fn=<SliceBackward0>)\n",
            "tensor([-0.0044,  0.0107, -0.0043,  0.0072, -0.0124], device='cuda:0',\n",
            "       grad_fn=<SliceBackward0>)\n",
            "tensor([0.0161, 0.0912, 0.0337, 0.0383, 0.1214], device='cuda:0',\n",
            "       grad_fn=<SliceBackward0>)\n",
            "\n",
            "Epoch: 4 | Train Loss: 3.341890766568806\n",
            "tensor([-0.0001, -0.0081, -0.0069,  0.0016,  0.0050], device='cuda:0',\n",
            "       grad_fn=<SliceBackward0>)\n",
            "tensor([-0.1038,  0.0085, -0.0466,  0.0330, -0.0316], device='cuda:0',\n",
            "       grad_fn=<SliceBackward0>)\n",
            "tensor([0.9929, 0.9853, 0.9973, 1.0078, 0.9825], device='cuda:0',\n",
            "       grad_fn=<SliceBackward0>)\n",
            "tensor([-0.0047,  0.0116, -0.0039,  0.0075, -0.0153], device='cuda:0',\n",
            "       grad_fn=<SliceBackward0>)\n",
            "tensor([0.0143, 0.0807, 0.0357, 0.0370, 0.1166], device='cuda:0',\n",
            "       grad_fn=<SliceBackward0>)\n",
            "\n"
          ]
        }
      ]
    },
    {
      "cell_type": "code",
      "source": [
        "train_data[0]"
      ],
      "metadata": {
        "colab": {
          "base_uri": "https://localhost:8080/"
        },
        "id": "wrnXz1Mq_4aO",
        "outputId": "1afed0d3-3c05-4b8e-d0a9-8fcf0aee7d54"
      },
      "execution_count": 26,
      "outputs": [
        {
          "output_type": "execute_result",
          "data": {
            "text/plain": [
              "tensor([  101,  1463, 30019, 29996, 30008, 30021,  1461, 30019, 30005, 30008,\n",
              "        30023,  1469, 30011, 30020, 29997, 30019,   100,   100,   100,  1463,\n",
              "        30006, 29997, 30009, 29999, 30013,  1029,  1464, 30009, 29991, 30006,\n",
              "         1464, 30019, 29992, 30006, 30021, 30000, 30014,  1461, 30014, 29999,\n",
              "        30008, 30024, 29999, 30017, 30022,   100,  1012,   102,     0,     0,\n",
              "            0,     0,     0,     0,     0,     0,     0,     0,     0,     0,\n",
              "            0,     0,     0,     0,     0,     0,     0,     0,     0,     0,\n",
              "            0,     0,     0,     0,     0,     0,     0,     0,     0,     0,\n",
              "            0,     0,     0,     0,     0,     0,     0,     0,     0,     0,\n",
              "            0,     0,     0,     0,     0,     0,     0,     0,     0,     0,\n",
              "            0,     0,     0,     0,     0,     0,     0,     0,     0,     0,\n",
              "            0,     0,     0,     0,     0,     0,     0,     0,     0,     0,\n",
              "            0,     0,     0,     0,     0,     0,     0,     0])"
            ]
          },
          "metadata": {},
          "execution_count": 26
        }
      ]
    },
    {
      "cell_type": "code",
      "source": [
        "model.eval()\n",
        "\n",
        "input_seq = '어제 수업에 가지 못했는데 다음 수업 때 필요한게 있을까요?'\n",
        "\n",
        "encoded =  tokenizer(input_seq,\n",
        "                    return_tensors='pt',\n",
        "                    padding='max_length',\n",
        "                    truncation=True,\n",
        "                    max_length=max_seq_len\n",
        "                    )\n",
        "\n",
        "input_ids = encoded['input_ids'].unsqueeze(0).to(device)\n",
        "input_mask = encoded['attention_mask'].unsqueeze(0).to(device)\n",
        "\n",
        "default_ids = torch.LongTensor([101]).unsqueeze(0).to(device) # start of sentence token ids\n",
        "default_mask = torch.LongTensor([1]).unsqueeze(0).to(device)\n",
        "\n",
        "for i in range(1, max_seq_len):\n",
        "  pad_ids = torch.LongTensor([0 for _ in range(max_seq_len-i)]).unsqueeze(0).to(device)\n",
        "  output_ids = torch.cat((default_ids, pad_ids), -1)\n",
        "\n",
        "  pad_mask = torch.LongTensor([0 for _ in range(max_seq_len-i)]).unsqueeze(0).to(device)\n",
        "  output_mask = torch.cat((default_mask, pad_mask), -1)\n",
        "\n",
        "  logits = model(input_ids, input_mask, output_ids, output_mask)\n",
        "\n",
        "  logits = F.softmax(logits, -1)\n",
        "  next_token_id = torch.argmax(logits, -1)[0][0][i]\n",
        "\n",
        "  if next_token_id == 102: # end of sentence token\n",
        "    break\n",
        "\n",
        "  default_ids = torch.cat((default_ids, next_token_id.unsqueeze(0).unsqueeze(0)), -1)\n",
        "  default_mask = torch.cat((default_mask, torch.LongTensor([[1]]).to(device)), -1)\n",
        "\n",
        "input_seq, ''.join(tokenizer.batch_decode(output_ids, skip_special_tokens=True))"
      ],
      "metadata": {
        "colab": {
          "base_uri": "https://localhost:8080/"
        },
        "id": "S6_H1GJdoXe1",
        "outputId": "7663c3b7-d3b8-4d44-d3fb-fe445aae8e5e"
      },
      "execution_count": 33,
      "outputs": [
        {
          "output_type": "execute_result",
          "data": {
            "text/plain": [
              "('어제 수업에 가지 못했는데 다음 수업 때 필요한게 있을까요?',\n",
              " \"how do you think about the of the the of the team's meeting the meeting meeting meeting meeting? meeting meeting?\")"
            ]
          },
          "metadata": {},
          "execution_count": 33
        }
      ]
    }
  ]
}